{
 "cells": [
  {
   "cell_type": "code",
   "execution_count": null,
   "metadata": {},
   "outputs": [],
   "source": [
    "import pandas as pd\n",
    "import numpy as np\n",
    "from sklearn.model_selection import train_test_split, GridSearchCV\n",
    "from sklearn.ensemble import RandomForestClassifier\n",
    "from sklearn.metrics import accuracy_score, precision_score, recall_score, f1_score\n",
    "from imblearn.over_sampling import SMOTE\n",
    "import matplotlib.pyplot as plt"
   ]
  },
  {
   "cell_type": "code",
   "execution_count": null,
   "metadata": {},
   "outputs": [],
   "source": [
    "# 1. Carregamento e divisão dos dados\n",
    "df = pd.read_csv(\"train_w_metricas.csv\",index_col=0)  \n",
    "\n",
    "# removendo métricas irrelevantes \n",
    "columns_to_remove = [\n",
    "    'label', 'code', 'cbo', 'cboModified', 'fanin', 'fanout', 'wmc', \n",
    "    'dit', 'noc', 'rfc', 'lcom', 'lcom*', 'tcc', 'lcc'\n",
    "]\n",
    "# Separando features e label\n",
    "X = df.drop(columns=columns_to_remove, axis=1)  # As colunas CK são as features\n",
    "y = df[\"label\"]  # A label, com 1 para vulnerável e 0 para não vulnerável\n"
   ]
  },
  {
   "cell_type": "code",
   "execution_count": 3,
   "metadata": {},
   "outputs": [],
   "source": [
    "# 2. Aplicação do SMOTE para balancear as classes\n",
    "smote = SMOTE(random_state=None)\n",
    "X_resampled, y_resampled = smote.fit_resample(X, y)\n"
   ]
  },
  {
   "cell_type": "code",
   "execution_count": 4,
   "metadata": {},
   "outputs": [],
   "source": [
    "\n",
    "# 4. Dividindo em conjuntos de treino e teste\n",
    "X_train, X_test, y_train, y_test = train_test_split(X_resampled, y_resampled, test_size=0.2, random_state=None)\n"
   ]
  },
  {
   "cell_type": "code",
   "execution_count": 5,
   "metadata": {},
   "outputs": [
    {
     "name": "stdout",
     "output_type": "stream",
     "text": [
      "Fitting 5 folds for each of 243 candidates, totalling 1215 fits\n",
      "Melhores parâmetros: {'max_depth': 20, 'max_features': 'log2', 'min_samples_leaf': 1, 'min_samples_split': 5, 'n_estimators': 100}\n"
     ]
    }
   ],
   "source": [
    "\n",
    "# 5. Configuração e ajuste do modelo Random Forest\n",
    "# Definindo hiperparâmetros para a busca em grid\n",
    "param_grid = {\n",
    "    \"n_estimators\": [100, 200, 300],\n",
    "    \"max_depth\": [10, 20, None],\n",
    "    \"min_samples_split\": [2, 5, 10],\n",
    "    \"min_samples_leaf\": [1, 2, 4],\n",
    "    \"max_features\": [\"sqrt\", \"log2\", None]\n",
    "}\n",
    "\n",
    "# Configurando a busca de hiperparâmetros\n",
    "rf = RandomForestClassifier(random_state=None)\n",
    "grid_search = GridSearchCV(estimator=rf, param_grid=param_grid, cv=5, scoring=\"accuracy\", n_jobs=-1, verbose=2)\n",
    "grid_search.fit(X_train, y_train)\n",
    "\n",
    "# Melhor modelo ajustado\n",
    "best_rf = grid_search.best_estimator_\n",
    "\n",
    "\n",
    "\n",
    "print(\"Melhores parâmetros:\", grid_search.best_params_)\n",
    "\n"
   ]
  },
  {
   "cell_type": "code",
   "execution_count": 6,
   "metadata": {},
   "outputs": [
    {
     "name": "stdout",
     "output_type": "stream",
     "text": [
      "Accuracy: 0.7093\n",
      "Precision: 0.7439\n",
      "Recall: 0.6778\n",
      "F1 Score: 0.7093\n"
     ]
    }
   ],
   "source": [
    "\n",
    "# 6. Avaliação do modelo no conjunto de teste\n",
    "y_pred = best_rf.predict(X_test)\n",
    "\n",
    "# Métricas de desempenho\n",
    "accuracy = accuracy_score(y_test, y_pred)\n",
    "precision = precision_score(y_test, y_pred)\n",
    "recall = recall_score(y_test, y_pred)\n",
    "f1 = f1_score(y_test, y_pred)\n",
    "\n",
    "print(f\"Accuracy: {accuracy:.4f}\")\n",
    "print(f\"Precision: {precision:.4f}\")\n",
    "print(f\"Recall: {recall:.4f}\")\n",
    "print(f\"F1 Score: {f1:.4f}\")\n"
   ]
  },
  {
   "cell_type": "code",
   "execution_count": 7,
   "metadata": {},
   "outputs": [],
   "source": [
    "# Definindo os nomes das variáveis\n",
    "feature_names = X_train.columns if hasattr(X_train, 'columns') else [f\"Feature {i}\" for i in range(X_train.shape[1])]\n",
    "\n",
    "# Função para plotar a importância das variáveis\n",
    "def plot_feature_importance(model, model_name):\n",
    "    importances = model.feature_importances_\n",
    "    sorted_idx = np.argsort(importances)[-5:]  # Seleciona as 5 variáveis mais importantes\n",
    "\n",
    "    print(\"Variáveis mais importantes:\")\n",
    "    for i in sorted_idx:\n",
    "        print(f\"{feature_names[i]}: {importances[i]:.4f}\")\n",
    "\n",
    "    plt.figure(figsize=(8, 6))\n",
    "    plt.barh(np.array(feature_names)[sorted_idx], importances[sorted_idx])\n",
    "    plt.xlabel(\"Importância\")\n",
    "    plt.title(\"Variáveis\")\n",
    "    plt.show()"
   ]
  },
  {
   "cell_type": "code",
   "execution_count": 8,
   "metadata": {},
   "outputs": [
    {
     "name": "stdout",
     "output_type": "stream",
     "text": [
      "Variáveis mais importantes:\n",
      "assignmentsQty: 0.0738\n",
      "stringLiteralsQty: 0.0738\n",
      "variablesQty: 0.0833\n",
      "loc: 0.0984\n",
      "uniqueWordsQty: 0.1442\n"
     ]
    },
    {
     "data": {
      "image/png": "[encoded data removed]",
      "text/plain": [
       "<Figure size 800x600 with 1 Axes>"
      ]
     },
     "metadata": {},
     "output_type": "display_data"
    }
   ],
   "source": [
    "plot_feature_importance(best_rf, \"Random Forest\")\n"
   ]
  }
 ],
 "metadata": {
  "kernelspec": {
   "display_name": "Python 3",
   "language": "python",
   "name": "python3"
  },
  "language_info": {
   "codemirror_mode": {
    "name": "ipython",
    "version": 3
   },
   "file_extension": ".py",
   "mimetype": "text/x-python",
   "name": "python",
   "nbconvert_exporter": "python",
   "pygments_lexer": "ipython3",
   "version": "3.12.7"
  }
 },
 "nbformat": 4,
 "nbformat_minor": 2
}
