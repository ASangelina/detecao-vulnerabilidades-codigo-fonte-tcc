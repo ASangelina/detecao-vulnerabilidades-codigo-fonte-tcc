{
 "cells": [
  {
   "cell_type": "code",
   "execution_count": null,
   "metadata": {},
   "outputs": [],
   "source": [
    "from imblearn.over_sampling import SMOTE\n",
    "import pandas as pd\n",
    "from sklearn.model_selection import train_test_split\n",
    "from sklearn.tree import DecisionTreeClassifier\n",
    "from sklearn.metrics import accuracy_score\n",
    "from sklearn.model_selection import GridSearchCV\n",
    "from sklearn.metrics import precision_score, recall_score, f1_score"
   ]
  },
  {
   "cell_type": "code",
   "execution_count": null,
   "metadata": {},
   "outputs": [],
   "source": [
    "# Separando as features e a label\n",
    "df = pd.read_csv(\"train_w_metricas.csv\",index_col=0)\n",
    "y = X['label']\n",
    "columns_to_remove = [\n",
    "    'label', 'code', 'cbo', 'cboModified', 'fanin', 'fanout', 'wmc', \n",
    "    'dit', 'noc', 'rfc', 'lcom', 'lcom*', 'tcc', 'lcc'\n",
    "]\n",
    "X = df.drop(columns=columns_to_remove, axis=1)"
   ]
  },
  {
   "cell_type": "code",
   "execution_count": 3,
   "metadata": {},
   "outputs": [],
   "source": [
    "# Aplicando o SMOTE\n",
    "smote = SMOTE(random_state=None)\n",
    "X_resampled, y_resampled = smote.fit_resample(X, y)\n"
   ]
  },
  {
   "cell_type": "code",
   "execution_count": 4,
   "metadata": {},
   "outputs": [],
   "source": [
    "# Dividir o conjunto de dados\n",
    "X_train, X_test, y_train, y_test = train_test_split(X_resampled, y_resampled, test_size=0.2, random_state=None)\n"
   ]
  },
  {
   "cell_type": "code",
   "execution_count": 5,
   "metadata": {},
   "outputs": [],
   "source": [
    "param_grid = {\n",
    "    'criterion': ['gini', 'entropy'],          # Função de avaliação\n",
    "    'splitter': ['best', 'random'],            # Método de divisão dos nós\n",
    "    'max_depth': [None, 10, 20, 30, 40, 50],   # Profundidade máxima da árvore\n",
    "    'min_samples_split': [2, 10, 20],          # Mínimo de amostras para dividir um nó\n",
    "    'min_samples_leaf': [1, 5, 10],            # Mínimo de amostras em uma folha\n",
    "    'max_features': [None, 'sqrt', 'log2'],    # Máximo de features consideradas na divisão\n",
    "    'class_weight': [None, 'balanced']         # Adiciona a opção de balanceamento\n",
    "}\n",
    "dt = DecisionTreeClassifier(random_state=None)\n",
    "grid_search = GridSearchCV(estimator=dt, param_grid=param_grid, cv=5,scoring='accuracy',n_jobs=-1,verbose=1)\n"
   ]
  },
  {
   "cell_type": "code",
   "execution_count": null,
   "metadata": {},
   "outputs": [
    {
     "name": "stdout",
     "output_type": "stream",
     "text": [
      "Fitting 5 folds for each of 1296 candidates, totalling 6480 fits\n",
      "Melhores parâmetros encontrados:\n",
      "{'class_weight': None, 'criterion': 'gini', 'max_depth': 20, 'max_features': 'log2', 'min_samples_leaf': 1, 'min_samples_split': 10, 'splitter': 'best'}\n",
      "Accuracy: 0.6976744186046512\n",
      "Precision: 0.7341772151898734\n",
      "Recall: 0.6976744186046512\n",
      "F1-Score: 0.6972654283700795\n"
     ]
    }
   ],
   "source": [
    "# Ajustar o GridSearch nos dados de treino\n",
    "grid_search.fit(X_train, y_train)\n",
    "\n",
    "print(\"Melhores parâmetros encontrados:\")\n",
    "print(grid_search.best_params_)\n",
    "\n",
    "\n",
    "# melhor modelo encontrado\n",
    "melhor_modelo = grid_search.best_estimator_\n",
    "y_pred = melhor_modelo.predict(X_test)\n",
    "\n",
    "print(\"Accuracy:\", accuracy_score(y_test, y_pred))\n",
    "print(\"Precision:\", precision_score(y_test, y_pred))\n",
    "print(\"Recall:\", recall_score(y_test, y_pred, average='weighted'))\n",
    "print(\"F1-Score:\", f1_score(y_test, y_pred, average='weighted'))"
   ]
  }
 ],
 "metadata": {
  "kernelspec": {
   "display_name": "Python 3",
   "language": "python",
   "name": "python3"
  },
  "language_info": {
   "codemirror_mode": {
    "name": "ipython",
    "version": 3
   },
   "file_extension": ".py",
   "mimetype": "text/x-python",
   "name": "python",
   "nbconvert_exporter": "python",
   "pygments_lexer": "ipython3",
   "version": "3.12.7"
  }
 },
 "nbformat": 4,
 "nbformat_minor": 2
}
